{
  "cells": [
    {
      "cell_type": "markdown",
      "metadata": {
        "id": "view-in-github",
        "colab_type": "text"
      },
      "source": [
        "<a href=\"https://colab.research.google.com/github/gafm-ai/My_Colab_Notebook/blob/main/I_mod1.ipynb\" target=\"_parent\"><img src=\"https://colab.research.google.com/assets/colab-badge.svg\" alt=\"Open In Colab\"/></a>"
      ]
    },
    {
      "cell_type": "code",
      "execution_count": null,
      "metadata": {
        "colab": {
          "background_save": true,
          "base_uri": "https://localhost:8080/"
        },
        "id": "Jfhofiaxt2RE",
        "outputId": "be1a4bdc-f661-4ecb-f75d-ac982aaeee61"
      },
      "outputs": [
        {
          "name": "stdout",
          "output_type": "stream",
          "text": [
            "Collecting finnhub-python\n",
            "  Downloading finnhub_python-2.4.20-py3-none-any.whl.metadata (9.0 kB)\n",
            "Requirement already satisfied: requests>=2.22.0 in /usr/local/lib/python3.10/dist-packages (from finnhub-python) (2.32.3)\n",
            "Requirement already satisfied: charset-normalizer<4,>=2 in /usr/local/lib/python3.10/dist-packages (from requests>=2.22.0->finnhub-python) (3.3.2)\n",
            "Requirement already satisfied: idna<4,>=2.5 in /usr/local/lib/python3.10/dist-packages (from requests>=2.22.0->finnhub-python) (3.10)\n",
            "Requirement already satisfied: urllib3<3,>=1.21.1 in /usr/local/lib/python3.10/dist-packages (from requests>=2.22.0->finnhub-python) (2.2.3)\n",
            "Requirement already satisfied: certifi>=2017.4.17 in /usr/local/lib/python3.10/dist-packages (from requests>=2.22.0->finnhub-python) (2024.8.30)\n",
            "Downloading finnhub_python-2.4.20-py3-none-any.whl (11 kB)\n",
            "Installing collected packages: finnhub-python\n",
            "Successfully installed finnhub-python-2.4.20\n"
          ]
        }
      ],
      "source": [
        "try :\n",
        "    import finnhub\n",
        "except :\n",
        "    !pip install finnhub-python\n",
        "    import finnhub\n",
        "\n",
        "import pandas as pd\n",
        "from datetime import datetime, timedelta\n",
        "import time\n",
        "import os\n",
        "from requests.exceptions import ReadTimeout"
      ]
    },
    {
      "cell_type": "code",
      "execution_count": null,
      "metadata": {
        "colab": {
          "background_save": true,
          "base_uri": "https://localhost:8080/"
        },
        "id": "Lwz236z5qp1D",
        "outputId": "078770d0-30ea-4d25-9163-c54f4ca1ced3"
      },
      "outputs": [
        {
          "ename": "ValueError",
          "evalue": "mount failed",
          "output_type": "error",
          "traceback": [
            "\u001b[0;31m---------------------------------------------------------------------------\u001b[0m",
            "\u001b[0;31mValueError\u001b[0m                                Traceback (most recent call last)",
            "\u001b[0;32m<ipython-input-2-d5df0069828e>\u001b[0m in \u001b[0;36m<cell line: 2>\u001b[0;34m()\u001b[0m\n\u001b[1;32m      1\u001b[0m \u001b[0;32mfrom\u001b[0m \u001b[0mgoogle\u001b[0m\u001b[0;34m.\u001b[0m\u001b[0mcolab\u001b[0m \u001b[0;32mimport\u001b[0m \u001b[0mdrive\u001b[0m\u001b[0;34m\u001b[0m\u001b[0;34m\u001b[0m\u001b[0m\n\u001b[0;32m----> 2\u001b[0;31m \u001b[0mdrive\u001b[0m\u001b[0;34m.\u001b[0m\u001b[0mmount\u001b[0m\u001b[0;34m(\u001b[0m\u001b[0;34m'/content/drive'\u001b[0m\u001b[0;34m)\u001b[0m\u001b[0;34m\u001b[0m\u001b[0;34m\u001b[0m\u001b[0m\n\u001b[0m",
            "\u001b[0;32m/usr/local/lib/python3.10/dist-packages/google/colab/drive.py\u001b[0m in \u001b[0;36mmount\u001b[0;34m(mountpoint, force_remount, timeout_ms, readonly)\u001b[0m\n\u001b[1;32m     98\u001b[0m \u001b[0;32mdef\u001b[0m \u001b[0mmount\u001b[0m\u001b[0;34m(\u001b[0m\u001b[0mmountpoint\u001b[0m\u001b[0;34m,\u001b[0m \u001b[0mforce_remount\u001b[0m\u001b[0;34m=\u001b[0m\u001b[0;32mFalse\u001b[0m\u001b[0;34m,\u001b[0m \u001b[0mtimeout_ms\u001b[0m\u001b[0;34m=\u001b[0m\u001b[0;36m120000\u001b[0m\u001b[0;34m,\u001b[0m \u001b[0mreadonly\u001b[0m\u001b[0;34m=\u001b[0m\u001b[0;32mFalse\u001b[0m\u001b[0;34m)\u001b[0m\u001b[0;34m:\u001b[0m\u001b[0;34m\u001b[0m\u001b[0;34m\u001b[0m\u001b[0m\n\u001b[1;32m     99\u001b[0m   \u001b[0;34m\"\"\"Mount your Google Drive at the specified mountpoint path.\"\"\"\u001b[0m\u001b[0;34m\u001b[0m\u001b[0;34m\u001b[0m\u001b[0m\n\u001b[0;32m--> 100\u001b[0;31m   return _mount(\n\u001b[0m\u001b[1;32m    101\u001b[0m       \u001b[0mmountpoint\u001b[0m\u001b[0;34m,\u001b[0m\u001b[0;34m\u001b[0m\u001b[0;34m\u001b[0m\u001b[0m\n\u001b[1;32m    102\u001b[0m       \u001b[0mforce_remount\u001b[0m\u001b[0;34m=\u001b[0m\u001b[0mforce_remount\u001b[0m\u001b[0;34m,\u001b[0m\u001b[0;34m\u001b[0m\u001b[0;34m\u001b[0m\u001b[0m\n",
            "\u001b[0;32m/usr/local/lib/python3.10/dist-packages/google/colab/drive.py\u001b[0m in \u001b[0;36m_mount\u001b[0;34m(mountpoint, force_remount, timeout_ms, ephemeral, readonly)\u001b[0m\n\u001b[1;32m    275\u001b[0m             \u001b[0;34m'https://research.google.com/colaboratory/faq.html#drive-timeout'\u001b[0m\u001b[0;34m\u001b[0m\u001b[0;34m\u001b[0m\u001b[0m\n\u001b[1;32m    276\u001b[0m         )\n\u001b[0;32m--> 277\u001b[0;31m       \u001b[0;32mraise\u001b[0m \u001b[0mValueError\u001b[0m\u001b[0;34m(\u001b[0m\u001b[0;34m'mount failed'\u001b[0m \u001b[0;34m+\u001b[0m \u001b[0mextra_reason\u001b[0m\u001b[0;34m)\u001b[0m\u001b[0;34m\u001b[0m\u001b[0;34m\u001b[0m\u001b[0m\n\u001b[0m\u001b[1;32m    278\u001b[0m     \u001b[0;32melif\u001b[0m \u001b[0mcase\u001b[0m \u001b[0;34m==\u001b[0m \u001b[0;36m4\u001b[0m\u001b[0;34m:\u001b[0m\u001b[0;34m\u001b[0m\u001b[0;34m\u001b[0m\u001b[0m\n\u001b[1;32m    279\u001b[0m       \u001b[0;31m# Terminate the DriveFS binary before killing bash.\u001b[0m\u001b[0;34m\u001b[0m\u001b[0;34m\u001b[0m\u001b[0m\n",
            "\u001b[0;31mValueError\u001b[0m: mount failed"
          ]
        }
      ],
      "source": [
        "from google.colab import drive\n",
        "drive.mount('/content/drive')"
      ]
    },
    {
      "cell_type": "code",
      "execution_count": null,
      "metadata": {
        "colab": {
          "background_save": true
        },
        "id": "x4Z_jd6DuHrG"
      },
      "outputs": [],
      "source": [
        "# Configuration\n",
        "FINNHUB_API_KEY = 'cpq6j4pr01qo647ne0qgcpq6j4pr01qo647ne0r0'  # Remplacez par votre clé API Finnhub\n",
        "\n",
        "# Initialiser le client Finnhub\n",
        "finnhub_client = finnhub.Client(api_key=FINNHUB_API_KEY)"
      ]
    },
    {
      "cell_type": "code",
      "execution_count": null,
      "metadata": {
        "colab": {
          "background_save": true
        },
        "id": "gr3CjmtgpvmM"
      },
      "outputs": [],
      "source": [
        "import os\n",
        "import time\n",
        "import logging\n",
        "import finnhub\n",
        "import pandas as pd\n",
        "from datetime import datetime\n",
        "from requests.exceptions import ReadTimeout, ConnectionError\n",
        "\n",
        "# Configuration du logging\n",
        "logging.basicConfig(level=logging.INFO, format='%(asctime)s - %(levelname)s - %(message)s')\n",
        "\n",
        "\n",
        "def convert_timeframe_to_minutes(timeframe):\n",
        "    \"\"\"\n",
        "    Convertit un timeframe en minutes.\n",
        "\n",
        "    Args:\n",
        "        timeframe (str or int): La période de temps (ex: \"5\", \"15\", \"D\", \"W\", \"M\").\n",
        "\n",
        "    Returns:\n",
        "        int: Le timeframe en minutes.\n",
        "\n",
        "    Raises:\n",
        "        ValueError: Si le timeframe n'est pas valide.\n",
        "    \"\"\"\n",
        "    if isinstance(timeframe, int) or (isinstance(timeframe, str) and timeframe.isdigit()):\n",
        "        return int(timeframe)\n",
        "    elif timeframe == 'D':\n",
        "        return 24 * 60\n",
        "    elif timeframe == 'W':\n",
        "        return 7 * 24 * 60\n",
        "    elif timeframe == 'M':\n",
        "        return 30 * 24 * 60\n",
        "    else:\n",
        "        raise ValueError(f\"Timeframe non valide : {timeframe}\")\n",
        "\n",
        "def fetch_price(symbol, timeframe, start_timestamp, end_timestamp, instrument_type='forex'):\n",
        "    \"\"\"\n",
        "    Récupère les données de prix depuis l'API Finnhub pour un symbole donné.\n",
        "\n",
        "    Args:\n",
        "        symbol (str): Le symbole de l'actif.\n",
        "        timeframe (str or int): La période de temps.\n",
        "        start_timestamp (int): Timestamp Unix de début.\n",
        "        end_timestamp (int): Timestamp Unix de fin.\n",
        "        instrument_type (str, optional): Type d'instrument ('forex', 'stock', 'crypto'). Par défaut 'forex'.\n",
        "\n",
        "    Returns:\n",
        "        pd.DataFrame: Données de prix avec les colonnes ['timestamp', 'open', 'high', 'low', 'close', 'volume'].\n",
        "    \"\"\"\n",
        "    timeframe_minutes = convert_timeframe_to_minutes(timeframe)\n",
        "    all_data_price = []\n",
        "    current_start = start_timestamp\n",
        "\n",
        "    while current_start < end_timestamp:\n",
        "        try:\n",
        "            # Calcul de la fin actuelle en respectant la limite de 2000 bougies par requête\n",
        "            current_end = min(current_start + 2000 * timeframe_minutes * 60, end_timestamp)\n",
        "\n",
        "            # Sélection de la fonction API appropriée en fonction du type d'instrument\n",
        "            if instrument_type == 'forex':\n",
        "                price_data = finnhub_client.forex_candles(symbol, timeframe, current_start, current_end)\n",
        "            elif instrument_type == 'stock':\n",
        "                price_data = finnhub_client.stock_candles(symbol, timeframe, current_start, current_end)\n",
        "            elif instrument_type == 'crypto':\n",
        "                price_data = finnhub_client.crypto_candles(symbol, timeframe, current_start, current_end)\n",
        "            else:\n",
        "                raise ValueError(f\"Type d'instrument non supporté : {instrument_type}\")\n",
        "\n",
        "            # Vérification du statut de la réponse\n",
        "            if price_data['s'] == 'no_data':\n",
        "                logging.warning(f\"Aucune donnée disponible pour {symbol} entre {datetime.fromtimestamp(current_start)} et {datetime.fromtimestamp(current_end)}.\")\n",
        "                current_start = current_end + 1\n",
        "                continue  # Continuer l'exécution sans ajouter de données\n",
        "\n",
        "            if price_data['s'] != 'ok':\n",
        "                logging.error(f\"Erreur API Finnhub pour {symbol}: {price_data.get('s')}\")\n",
        "                current_start = current_end + 1\n",
        "                continue  # Continuer l'exécution malgré l'erreur\n",
        "\n",
        "            # Conversion des données en DataFrame\n",
        "            price_df = pd.DataFrame(price_data)\n",
        "            all_data_price.append(price_df)\n",
        "\n",
        "            current_start = current_end + 1\n",
        "            time.sleep(0.5)  # Pause pour respecter les limites de taux\n",
        "\n",
        "        except (ReadTimeout, ConnectionError) as e:\n",
        "            logging.warning(f\"Problème réseau lors de la récupération des données pour {symbol}: {e}. Nouvelle tentative dans 5 secondes...\")\n",
        "            time.sleep(5)\n",
        "        except Exception as e:\n",
        "            logging.error(f\"Erreur inattendue: {e}\")\n",
        "            break  # Arrêter la boucle en cas d'erreur inattendue\n",
        "\n",
        "    if not all_data_price:\n",
        "        logging.warning(\"Aucune donnée n'a été récupérée.\")\n",
        "        return pd.DataFrame()  # Retourne un DataFrame vide\n",
        "\n",
        "    # Concaténation de toutes les données récupérées\n",
        "    final_df_price = pd.concat(all_data_price, ignore_index=True)\n",
        "    final_df_price['timestamp'] = pd.to_datetime(final_df_price['t'], unit='s', utc=True)\n",
        "    final_df_price.rename(columns={'o': 'open', 'h': 'high', 'l': 'low', 'c': 'close', 'v': 'volume'}, inplace=True)\n",
        "    final_df_price.sort_values('timestamp', inplace=True)\n",
        "\n",
        "    return final_df_price[['timestamp', 'open', 'high', 'low', 'close', 'volume']]\n",
        "\n",
        "def fetch_and_store_price_data(symbol, timeframe, start_date, end_date, output_directory, instrument_type='forex'):\n",
        "    \"\"\"\n",
        "    Récupère et enregistre les données de prix de Finnhub pour un symbole donné.\n",
        "\n",
        "    Args:\n",
        "        symbol (str): Le symbole de l'actif (ex: \"OANDA:EUR_USD\").\n",
        "        timeframe (str or int): La période de temps (ex: \"5\", \"15\", \"D\", \"W\", \"M\").\n",
        "        start_date (datetime): La date de début.\n",
        "        end_date (datetime): La date de fin.\n",
        "        output_directory (str): Le chemin vers le répertoire de sortie.\n",
        "        instrument_type (str, optional): Le type d'instrument ('forex', 'stock', 'crypto'). Par défaut 'forex'.\n",
        "    \"\"\"\n",
        "    if start_date >= end_date:\n",
        "        logging.error(\"La date de début doit être antérieure à la date de fin.\")\n",
        "        return\n",
        "\n",
        "    start_timestamp = int(start_date.timestamp())\n",
        "    end_timestamp = int(end_date.timestamp())\n",
        "\n",
        "    # Récupération des données de prix\n",
        "    price_data = fetch_price(symbol, timeframe, start_timestamp, end_timestamp, instrument_type)\n",
        "\n",
        "    if price_data.empty:\n",
        "        logging.warning(f\"Aucune donnée à enregistrer pour {symbol}.\")\n",
        "        return\n",
        "\n",
        "    # Création du répertoire de sortie si nécessaire\n",
        "    os.makedirs(output_directory, exist_ok=True)\n",
        "\n",
        "    # Définition du nom du fichier de sortie\n",
        "    symbol_safe = symbol.replace(\":\", \"_\").replace(\"/\", \"_\")\n",
        "    file_name = f'{symbol_safe}_{timeframe}_{start_date.strftime(\"%Y%m%d\")}_{end_date.strftime(\"%Y%m%d\")}_price.csv'\n",
        "    file_path = os.path.join(output_directory, file_name)\n",
        "\n",
        "    # Enregistrement des données au format CSV\n",
        "    price_data.to_csv(file_path, index=False)\n",
        "    logging.info(f\"Fichier enregistré localement : {file_path}\")\n",
        "\n",
        "# Exemple d'utilisation de la fonction\n",
        "if __name__ == \"__main__\":\n",
        "    # Définition des paramètres\n",
        "    symbole = \"OANDA:EUR_USD\"  # Exemple pour le forex\n",
        "    timeframe = \"5\"  # 60 minutes\n",
        "    start_date = datetime(2024, 5, 1)\n",
        "    end_date = datetime(2024, 10, 5)\n",
        "    repertoire_sortie = \"/content/drive/MyDrive/FLEURY/Finances/test_data\"\n",
        "    type_instrument = \"forex\"\n",
        "\n",
        "    # Appel de la fonction pour récupérer et enregistrer les données\n",
        "    fetch_and_store_price_data(symbole, timeframe, start_date, end_date, repertoire_sortie, type_instrument)\n"
      ]
    },
    {
      "cell_type": "code",
      "execution_count": null,
      "metadata": {
        "colab": {
          "background_save": true
        },
        "id": "UR9WKPXxTKXm"
      },
      "outputs": [],
      "source": [
        "cc"
      ]
    },
    {
      "cell_type": "code",
      "execution_count": null,
      "metadata": {
        "colab": {
          "background_save": true
        },
        "id": "g93P3OBliANx"
      },
      "outputs": [],
      "source": [
        "price_data = finnhub_client.forex_candles(\"CAPITAL:EURUSD\", '5', int(datetime(2023, 1, 1).timestamp()), int(datetime(2023, 1, 5).timestamp()))"
      ]
    },
    {
      "cell_type": "code",
      "execution_count": null,
      "metadata": {
        "colab": {
          "background_save": true
        },
        "id": "pf46NkO_AdW_"
      },
      "outputs": [],
      "source": [
        "# prompt: prend la donnée des 20 derniere minute depuis finnhub\n",
        "\n",
        "from datetime import datetime, timedelta\n",
        "\n",
        "now = datetime.now()\n",
        "twenty_minutes_ago = now - timedelta(minutes=20)\n",
        "\n",
        "price_data = finnhub_client.forex_candles(\"OANDA:EUR_USD\", '5', int(twenty_minutes_ago.timestamp()), int(now.timestamp()))\n",
        "\n",
        "if price_data['s'] == 'ok':\n",
        "  df = pd.DataFrame(price_data)\n",
        "  df['timestamp'] = pd.to_datetime(df['t'], unit='s', utc=True)\n",
        "  df.rename(columns={'o': 'open', 'h': 'high', 'l': 'low', 'c': 'close', 'v': 'volume'}, inplace=True)\n",
        "  print(df[['timestamp', 'open', 'high', 'low', 'close', 'volume']])\n",
        "else:\n",
        "  print(\"No data available for the last 20 minutes\")\n"
      ]
    },
    {
      "cell_type": "code",
      "execution_count": null,
      "metadata": {
        "colab": {
          "background_save": true
        },
        "id": "JtVipgYeBeLp"
      },
      "outputs": [],
      "source": [
        "2024-10-08 12:05:00+00:00  1.09877  1.09882  1.09875  1.09879      44"
      ]
    },
    {
      "cell_type": "code",
      "execution_count": null,
      "metadata": {
        "colab": {
          "background_save": true
        },
        "id": "bpfP48t6iAJY"
      },
      "outputs": [],
      "source": [
        "price_data.keys()"
      ]
    },
    {
      "cell_type": "code",
      "execution_count": null,
      "metadata": {
        "colab": {
          "background_save": true
        },
        "id": "VU1O1JH9iAGn"
      },
      "outputs": [],
      "source": [
        "price_data"
      ]
    },
    {
      "cell_type": "code",
      "execution_count": null,
      "metadata": {
        "colab": {
          "background_save": true
        },
        "id": "TXGBivaCiADT"
      },
      "outputs": [],
      "source": [
        "avc"
      ]
    },
    {
      "cell_type": "code",
      "execution_count": null,
      "metadata": {
        "colab": {
          "background_save": true
        },
        "id": "pvRLgyG0h__6"
      },
      "outputs": [],
      "source": []
    },
    {
      "cell_type": "code",
      "execution_count": null,
      "metadata": {
        "colab": {
          "background_save": true
        },
        "id": "RQhwZzJ9h_8E"
      },
      "outputs": [],
      "source": []
    },
    {
      "cell_type": "code",
      "execution_count": null,
      "metadata": {
        "colab": {
          "background_save": true
        },
        "id": "0KHE6vmgh_4k"
      },
      "outputs": [],
      "source": []
    },
    {
      "cell_type": "code",
      "execution_count": null,
      "metadata": {
        "colab": {
          "background_save": true
        },
        "id": "1DjH6bvZh_1V"
      },
      "outputs": [],
      "source": []
    },
    {
      "cell_type": "code",
      "execution_count": null,
      "metadata": {
        "colab": {
          "background_save": true
        },
        "id": "P3b2N1wCh_yH"
      },
      "outputs": [],
      "source": []
    },
    {
      "cell_type": "code",
      "execution_count": null,
      "metadata": {
        "colab": {
          "background_save": true
        },
        "id": "HU1u7oT5h_u9"
      },
      "outputs": [],
      "source": []
    },
    {
      "cell_type": "code",
      "execution_count": null,
      "metadata": {
        "colab": {
          "background_save": true
        },
        "id": "LHPLO20yh_r7"
      },
      "outputs": [],
      "source": []
    },
    {
      "cell_type": "code",
      "execution_count": null,
      "metadata": {
        "colab": {
          "background_save": true
        },
        "id": "Z3AqoXGJh_pM"
      },
      "outputs": [],
      "source": []
    },
    {
      "cell_type": "code",
      "execution_count": null,
      "metadata": {
        "colab": {
          "background_save": true
        },
        "id": "C6FV2FLGh_mZ"
      },
      "outputs": [],
      "source": []
    },
    {
      "cell_type": "code",
      "execution_count": null,
      "metadata": {
        "colab": {
          "background_save": true
        },
        "id": "05_nv4ARh_jk"
      },
      "outputs": [],
      "source": []
    },
    {
      "cell_type": "code",
      "execution_count": null,
      "metadata": {
        "colab": {
          "background_save": true
        },
        "id": "bBtb_DpGh_gs"
      },
      "outputs": [],
      "source": []
    },
    {
      "cell_type": "code",
      "execution_count": null,
      "metadata": {
        "colab": {
          "background_save": true
        },
        "id": "x2pvKdcqh_dm"
      },
      "outputs": [],
      "source": []
    },
    {
      "cell_type": "code",
      "execution_count": null,
      "metadata": {
        "colab": {
          "background_save": true
        },
        "id": "UHLCTyrLh_a1"
      },
      "outputs": [],
      "source": []
    },
    {
      "cell_type": "code",
      "execution_count": null,
      "metadata": {
        "colab": {
          "background_save": true
        },
        "id": "exzMEi0hh_X_"
      },
      "outputs": [],
      "source": []
    },
    {
      "cell_type": "code",
      "execution_count": null,
      "metadata": {
        "colab": {
          "background_save": true
        },
        "id": "4RjuhhGHh_VF"
      },
      "outputs": [],
      "source": []
    },
    {
      "cell_type": "code",
      "execution_count": null,
      "metadata": {
        "colab": {
          "background_save": true
        },
        "id": "9bfSEZL3h_SH"
      },
      "outputs": [],
      "source": []
    },
    {
      "cell_type": "code",
      "execution_count": null,
      "metadata": {
        "colab": {
          "background_save": true
        },
        "id": "_RHAysj8h_Pi"
      },
      "outputs": [],
      "source": []
    },
    {
      "cell_type": "code",
      "execution_count": null,
      "metadata": {
        "colab": {
          "background_save": true
        },
        "id": "EogNcj9Zh_ND"
      },
      "outputs": [],
      "source": []
    },
    {
      "cell_type": "code",
      "execution_count": null,
      "metadata": {
        "colab": {
          "background_save": true
        },
        "id": "6BenkH_zh_Kc"
      },
      "outputs": [],
      "source": []
    },
    {
      "cell_type": "code",
      "execution_count": null,
      "metadata": {
        "colab": {
          "background_save": true
        },
        "id": "9dCeI1Oxh_H8"
      },
      "outputs": [],
      "source": []
    },
    {
      "cell_type": "code",
      "execution_count": null,
      "metadata": {
        "colab": {
          "background_save": true
        },
        "id": "xqDRyRxbh_Fu"
      },
      "outputs": [],
      "source": []
    },
    {
      "cell_type": "code",
      "execution_count": null,
      "metadata": {
        "colab": {
          "background_save": true
        },
        "id": "CdiWQXTgh_C5"
      },
      "outputs": [],
      "source": []
    },
    {
      "cell_type": "code",
      "execution_count": null,
      "metadata": {
        "colab": {
          "background_save": true
        },
        "id": "67Z2pkJmh_AX"
      },
      "outputs": [],
      "source": []
    },
    {
      "cell_type": "code",
      "execution_count": null,
      "metadata": {
        "colab": {
          "background_save": true
        },
        "id": "0rllAij1h-90"
      },
      "outputs": [],
      "source": []
    },
    {
      "cell_type": "code",
      "execution_count": null,
      "metadata": {
        "colab": {
          "background_save": true
        },
        "id": "QC9PWRvLpviq"
      },
      "outputs": [],
      "source": [
        "# Exécution avec des paramètres personnalisés\n",
        "symbol = 'OANDA:EUR_USD'  # Par exemple, EUR/USD\n",
        "timeframe = '5'  # Timeframe de 5 minutes\n",
        "start_date = datetime(2012, 1, 1)\n",
        "end_date = datetime(2022, 12, 31)\n",
        "output_directory = os.path.expanduser('/content/drive/MyDrive/FLEURY/Finances/Finances_data')  # Spécifier le répertoire de sortie\n",
        "\n",
        "# Appel de la fonction avec les paramètres définis\n",
        "fetch_and_store_price_data(symbol, timeframe, start_date, end_date, output_directory)"
      ]
    },
    {
      "cell_type": "code",
      "execution_count": null,
      "metadata": {
        "colab": {
          "background_save": true
        },
        "id": "8fql3Q2jpvfj"
      },
      "outputs": [],
      "source": []
    },
    {
      "cell_type": "code",
      "execution_count": null,
      "metadata": {
        "colab": {
          "background_save": true
        },
        "id": "1RBzoXWKpvXb"
      },
      "outputs": [],
      "source": []
    },
    {
      "cell_type": "code",
      "execution_count": null,
      "metadata": {
        "colab": {
          "background_save": true
        },
        "id": "5HkAZfWTpvT_"
      },
      "outputs": [],
      "source": []
    },
    {
      "cell_type": "code",
      "execution_count": null,
      "metadata": {
        "colab": {
          "background_save": true
        },
        "id": "XFRh2WeRpvQa"
      },
      "outputs": [],
      "source": []
    },
    {
      "cell_type": "code",
      "execution_count": null,
      "metadata": {
        "colab": {
          "background_save": true
        },
        "id": "1sPpOagqpvM_"
      },
      "outputs": [],
      "source": []
    },
    {
      "cell_type": "code",
      "execution_count": null,
      "metadata": {
        "colab": {
          "background_save": true
        },
        "id": "-Ku-JWLQpvJs"
      },
      "outputs": [],
      "source": []
    },
    {
      "cell_type": "code",
      "execution_count": null,
      "metadata": {
        "colab": {
          "background_save": true
        },
        "id": "q8sZdEQ3G2hB"
      },
      "outputs": [],
      "source": [
        "# Fonction pour récupérer les données de prix de Finnhub\n",
        "import finnhub\n",
        "import pandas as pd\n",
        "from datetime import datetime, timedelta\n",
        "import time\n",
        "import os\n",
        "from requests.exceptions import ReadTimeout\n",
        "\n",
        "\n",
        "# Initialiser le client Finnhub\n",
        "finnhub_client = finnhub.Client(api_key=FINNHUB_API_KEY)\n",
        "\n",
        "\n",
        "def convert_timeframe_to_minutes(timeframe):\n",
        "    if isinstance(timeframe, int) or timeframe.isdigit():\n",
        "        return int(timeframe)\n",
        "    elif timeframe == 'D':\n",
        "        return 24 * 60\n",
        "    elif timeframe == 'W':\n",
        "        return 7 * 24 * 60\n",
        "    elif timeframe == 'M':\n",
        "        return 30 * 24 * 60\n",
        "    else:\n",
        "        raise ValueError(f\"Timeframe non valide : {timeframe}\")\n",
        "\n",
        "def fetch_price(symbol, timeframe, start_timestamp, end_timestamp, instrument_type='forex'):\n",
        "    timeframe_minutes = convert_timeframe_to_minutes(timeframe)\n",
        "\n",
        "    all_data_price = []\n",
        "    current_start = start_timestamp\n",
        "    request_count = 0\n",
        "    start_time = time.time()\n",
        "\n",
        "    while current_start < end_timestamp:\n",
        "        try:\n",
        "            if request_count >= 150:\n",
        "                elapsed_time = time.time() - start_time\n",
        "                if elapsed_time < 60:\n",
        "                    time.sleep(60 - elapsed_time)\n",
        "                request_count = 0\n",
        "                start_time = time.time()\n",
        "\n",
        "            current_end = min(current_start + 2000 * timeframe_minutes * 60, end_timestamp)\n",
        "\n",
        "            if instrument_type == 'forex':\n",
        "                price_data = finnhub_client.forex_candles(symbol, timeframe, current_start, current_end)\n",
        "            elif instrument_type == 'stock':\n",
        "                price_data = finnhub_client.stock_candles(symbol, timeframe, current_start, current_end)\n",
        "            elif instrument_type == 'crypto':\n",
        "                price_data = finnhub_client.crypto_candles(symbol, timeframe, current_start, current_end)\n",
        "            else:\n",
        "                raise ValueError(f\"Type d'instrument non supporté : {instrument_type}\")\n",
        "\n",
        "            request_count += 1\n",
        "\n",
        "            if price_data['s'] != 'ok':\n",
        "                raise Exception('Erreur lors de la récupération des données depuis Finnhub')\n",
        "\n",
        "            price_df = pd.DataFrame(price_data)\n",
        "            all_data_price.append(price_df)\n",
        "\n",
        "            current_start = current_end + 1\n",
        "            time.sleep(0.5)\n",
        "        except ReadTimeout:\n",
        "            print(f\"Timeout lors de la récupération des données pour {symbol}. Nouvelle tentative...\")\n",
        "            time.sleep(5)\n",
        "            continue\n",
        "\n",
        "    if not all_data_price:\n",
        "        raise Exception(\"Aucune donnée n'a été récupérée\")\n",
        "\n",
        "    final_df_price = pd.concat(all_data_price, ignore_index=True)\n",
        "    final_df_price['timestamp'] = pd.to_datetime(final_df_price['t'], unit='s')\n",
        "    final_df_price.rename(columns={'o': 'open', 'h': 'high', 'l': 'low', 'c': 'close', 'v': 'volume'}, inplace=True)\n",
        "\n",
        "    return final_df_price[['timestamp', 'open', 'high', 'low', 'close', 'volume']]\n",
        "\n",
        "\n",
        "\n",
        "def fetch_and_store_price_data(symbol, timeframe, start_date, end_date, output_directory, instrument_type='forex'):\n",
        "    \"\"\"\n",
        "    Récupère et enregistre les données de prix de Finnhub pour un symbole donné.\n",
        "\n",
        "    Args:\n",
        "        symbol (str): Le symbole de l'actif (ex: \"EURUSD\").\n",
        "        timeframe (str): La période de temps (ex: \"5\", \"15\", \"D\", \"W\", \"M\").\n",
        "        start_date (datetime): La date de début.\n",
        "        end_date (datetime): La date de fin.\n",
        "        output_directory (str): Le chemin vers le répertoire de sortie.\n",
        "        instrument_type (str, optional): Le type d'instrument (ex: \"forex\", \"stock\", \"crypto\"). Defaults to \"forex\".\n",
        "    \"\"\"\n",
        "    start_timestamp = int(start_date.timestamp())\n",
        "    end_timestamp = int(end_date.timestamp())\n",
        "\n",
        "    # Récupérer les données de prix de Finnhub\n",
        "    price_data = fetch_price(symbol, timeframe, start_timestamp, end_timestamp, instrument_type)\n",
        "\n",
        "    # Créer le répertoire de sortie si nécessaire\n",
        "    os.makedirs(output_directory, exist_ok=True)\n",
        "\n",
        "    # Définir le nom du fichier de sortie\n",
        "    file_name = f'{symbol.replace(\":\", \"_\")}_{timeframe}_{start_date.strftime(\"%Y%m%d\")}_{end_date.strftime(\"%Y%m%d\")}_price.csv'\n",
        "    file_path = os.path.join(output_directory, file_name)\n",
        "\n",
        "    # Enregistrer les données de prix au format CSV\n",
        "    price_data.to_csv(file_path, index=False)\n",
        "    print(f\"Fichier enregistré localement : {file_path}\")\n",
        "\n",
        "\n",
        "\n",
        "\n",
        "\n",
        "\n",
        "\n",
        "def fetch_indicator_data(symbol, indicator, timeframe, start_timestamp, end_timestamp, keep_ohlcv=False, **kwargs):\n",
        "    timeframe_minutes = convert_timeframe_to_minutes(timeframe)\n",
        "\n",
        "    # Calculer le décalage maximum basé sur les paramètres de période\n",
        "    max_period = max([int(v) for k, v in kwargs.items() if 'period' in k.lower()] or [0])\n",
        "    offset = (max_period + 1) * timeframe_minutes * 60  # Convertir en secondes\n",
        "\n",
        "    max_retries = 3\n",
        "    retry_delay = 5\n",
        "    all_data_indicator = []\n",
        "    current_start = start_timestamp\n",
        "    request_count = 0\n",
        "    start_time = time.time()\n",
        "\n",
        "    while current_start < end_timestamp:\n",
        "        for attempt in range(max_retries):\n",
        "            try:\n",
        "                if request_count >= 150:\n",
        "                    elapsed_time = time.time() - start_time\n",
        "                    if elapsed_time < 60:\n",
        "                        time.sleep(60 - elapsed_time)\n",
        "                    request_count = 0\n",
        "                    start_time = time.time()\n",
        "\n",
        "                request_start = max(current_start - offset, 0)  # Appliquer l'offset pour chaque requête\n",
        "                current_end = min(current_start + 2000 * timeframe_minutes * 60, end_timestamp)\n",
        "\n",
        "                indicator_data = finnhub_client.technical_indicator(\n",
        "                    symbol=symbol,\n",
        "                    resolution=timeframe,\n",
        "                    _from=request_start,\n",
        "                    to=current_end,\n",
        "                    indicator=indicator,\n",
        "                    indicator_fields=kwargs\n",
        "                )\n",
        "\n",
        "                request_count += 1\n",
        "\n",
        "                if not indicator_data or 's' not in indicator_data or indicator_data['s'] != 'ok':\n",
        "                    raise Exception(f'Aucune donnée retournée pour {indicator}.')\n",
        "\n",
        "                indicator_df = pd.DataFrame(indicator_data)\n",
        "                indicator_df['timestamp'] = pd.to_datetime(indicator_df['t'], unit='s')\n",
        "\n",
        "                # Garder seulement les données à partir de current_start\n",
        "                indicator_df = indicator_df[indicator_df['timestamp'] >= pd.to_datetime(current_start, unit='s')]\n",
        "\n",
        "                all_data_indicator.append(indicator_df)\n",
        "\n",
        "                current_start = current_end + 1\n",
        "                time.sleep(0.5)\n",
        "                break\n",
        "            except Exception as e:\n",
        "                print(f\"Erreur lors de la récupération de {indicator} : {e}\")\n",
        "                if attempt == max_retries - 1:\n",
        "                    return None\n",
        "                time.sleep(retry_delay)\n",
        "\n",
        "    if not all_data_indicator:\n",
        "        return None\n",
        "\n",
        "    final_df_indicator = pd.concat(all_data_indicator, ignore_index=True)\n",
        "    columns_to_drop = ['t', 's']\n",
        "    if not keep_ohlcv:\n",
        "        columns_to_drop.extend(['c', 'h', 'l', 'o', 'v'])\n",
        "    final_df_indicator = final_df_indicator.drop(columns=columns_to_drop)\n",
        "\n",
        "    return final_df_indicator\n",
        "\n",
        "# Fonction améliorée pour récupérer tous les indicateurs nécessaires\n",
        "def fetch_all_indicators(symbol, resolution, start_timestamp, end_timestamp):\n",
        "    indicators_params = {\n",
        "        'kama': {'indicator': 'kama', 'timeperiod': 10},\n",
        "        'stochrsi': {'indicator': 'stochrsi', 'timeperiod': 14},\n",
        "        'aroon': {'indicator': 'aroon', 'timeperiod': 14},\n",
        "        'sar': {'indicator': 'sar', 'acceleration': 0.02, 'maximum': 0.2},\n",
        "        'atr': {'indicator': 'atr', 'timeperiod': 14},\n",
        "        'adosc': {'indicator': 'adosc', 'fastperiod': 6, 'slowperiod': 14},\n",
        "        'httrendmode': {'indicator': 'httrendmode'},\n",
        "        'ema50': {'indicator': 'ema', 'timeperiod': 50},\n",
        "    }\n",
        "\n",
        "    all_data = {}\n",
        "    for indicator, params in indicators_params.items():\n",
        "        indicator_name = params.pop('indicator')\n",
        "        data = fetch_indicator_data(symbol, indicator_name, resolution, start_timestamp, end_timestamp, **params)\n",
        "        if data is not None:\n",
        "            # Assurez-vous que la colonne de temps est nommée 'timestamp'\n",
        "            if 't' in data.columns:\n",
        "                data = data.rename(columns={'t': 'timestamp'})\n",
        "            if 'timestamp' in data.columns:\n",
        "                all_data[indicator] = data\n",
        "            else:\n",
        "                print(f\"Avertissement : Pas de colonne 'timestamp' pour l'indicateur {indicator}\")\n",
        "        time.sleep(1)  # Pause pour éviter les limitations de l'API\n",
        "\n",
        "    return all_data\n",
        "\n",
        "# Fonction principale mise à jour\n",
        "def fetch_and_store_data(symbol, timeframe, start_date, end_date, output_directory, instrument_type='forex'):\n",
        "    start_timestamp = int(start_date.timestamp())\n",
        "    end_timestamp = int(end_date.timestamp())\n",
        "\n",
        "    # Récupérer les données de prix de Finnhub\n",
        "    price_data = fetch_price(symbol, timeframe, start_timestamp, end_timestamp, instrument_type)\n",
        "\n",
        "    # Récupérer les indicateurs techniques\n",
        "    indicators_data = fetch_all_indicators(symbol, timeframe, start_timestamp, end_timestamp)\n",
        "\n",
        "    # Fusionner les données de prix avec les indicateurs\n",
        "    for name, data in indicators_data.items():\n",
        "        if 'timestamp' in data.columns:\n",
        "            price_data = price_data.merge(data, on='timestamp', how='left')\n",
        "        else:\n",
        "            print(f\"Impossible de fusionner les données pour l'indicateur {name} : pas de colonne 'timestamp'\")\n",
        "\n",
        "    # Créer le répertoire de sortie si nécessaire\n",
        "    os.makedirs(output_directory, exist_ok=True)\n",
        "\n",
        "    # Définir le nom du fichier de sortie\n",
        "    file_name = f'{symbol.replace(\":\", \"_\")}_{timeframe}_{start_date.strftime(\"%Y%m%d\")}_{end_date.strftime(\"%Y%m%d\")}_with_indicators.csv'\n",
        "    file_path = os.path.join(output_directory, file_name)\n",
        "\n",
        "    # Enregistrer les données fusionnées au format CSV\n",
        "    price_data.to_csv(file_path, index=False)\n",
        "    print(f\"Fichier enregistré localement : {file_path}\")\n"
      ]
    },
    {
      "cell_type": "code",
      "execution_count": null,
      "metadata": {
        "colab": {
          "background_save": true
        },
        "id": "eCUKFVDYuXUv"
      },
      "outputs": [],
      "source": [
        "from google.colab import drive\n",
        "drive.mount('/content/drive')"
      ]
    },
    {
      "cell_type": "code",
      "execution_count": null,
      "metadata": {
        "colab": {
          "background_save": true
        },
        "id": "e9knx-HqtAp3"
      },
      "outputs": [],
      "source": []
    },
    {
      "cell_type": "code",
      "execution_count": null,
      "metadata": {
        "colab": {
          "background_save": true
        },
        "id": "-Pb1nVA5ycD5"
      },
      "outputs": [],
      "source": [
        "# Exécution avec des paramètres personnalisés\n",
        "symbol = 'OANDA:EUR_USD'  # Par exemple, EUR/USD\n",
        "timeframe = '5'  # Timeframe de 5 minutes\n",
        "start_date = datetime(2012, 1, 1)\n",
        "end_date = datetime(2022, 12, 31)\n",
        "output_directory = os.path.expanduser('/content/drive/MyDrive/FLEURY/Finances/Finances_data')  # Spécifier le répertoire de sortie\n",
        "\n",
        "# Appel de la fonction avec les paramètres définis\n",
        "fetch_and_store_price_data(symbol, timeframe, start_date, end_date, output_directory)"
      ]
    },
    {
      "cell_type": "code",
      "execution_count": null,
      "metadata": {
        "colab": {
          "background_save": true
        },
        "id": "ScvvFbwAvHGt"
      },
      "outputs": [],
      "source": [
        "# prompt: lire le fichier et affiche infos\n",
        "\n",
        "import pandas as pd\n",
        "\n",
        "# Spécifier le chemin du fichier\n",
        "file_path = '/content/drive/MyDrive/FLEURY/Finances/Finances_data/OANDA_EUR_USD_5_20120101_20221231_price.csv'\n",
        "\n",
        "# Lire le fichier CSV\n",
        "df = pd.read_csv(file_path)\n",
        "\n",
        "# Afficher les premières lignes du DataFrame\n",
        "print(df.head())\n",
        "\n",
        "# Afficher des informations sur le DataFrame\n",
        "print(df.info())\n",
        "\n",
        "# Afficher des statistiques descriptives\n",
        "print(df.describe())\n"
      ]
    },
    {
      "cell_type": "code",
      "execution_count": null,
      "metadata": {
        "colab": {
          "background_save": true
        },
        "id": "5Hzm1LENaguL"
      },
      "outputs": [],
      "source": []
    }
  ],
  "metadata": {
    "colab": {
      "provenance": [],
      "include_colab_link": true
    },
    "kernelspec": {
      "display_name": "Python 3",
      "name": "python3"
    },
    "language_info": {
      "name": "python"
    }
  },
  "nbformat": 4,
  "nbformat_minor": 0
}